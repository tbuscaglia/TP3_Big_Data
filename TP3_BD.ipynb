{
 "cells": [
  {
   "cell_type": "code",
   "execution_count": null,
   "id": "eb098d59",
   "metadata": {
    "scrolled": true
   },
   "outputs": [],
   "source": [
    "##Ejercicio 1 \n",
    "\n",
    "import pandas as pd\n",
    "import matplotlib.pyplot as plt\n",
    "\n",
    "## 2) \n",
    "#a) Importamos la base de datos, y nos quedamos unicamente con las observaciones pertenecientes a a los aglomerados de Ciudad Autónoma de Buenos Aires o Gran Buenos Aires.\n",
    "df = pd.read_excel('usu_individual_T423.xlsx')\n",
    "\n",
    "df = df[df['AGLOMERADO'].isin([32, 33])]\n",
    "\n",
    "\n"
   ]
  },
  {
   "cell_type": "code",
   "execution_count": null,
   "id": "acdd0806-9fc1-4272-81bc-11dca53f2cd8",
   "metadata": {},
   "outputs": [],
   "source": [
    "#b) Eliminamos observaciones con valores atipicos, como edades o ingresos negativos\n",
    "df = df[df['CH06'] > 0]\n",
    "\n",
    "df = df[df['P47T'] >= 0]\n",
    "\n",
    "df = df[df['ITF'] >= 0]"
   ]
  },
  {
   "cell_type": "code",
   "execution_count": null,
   "id": "8d237b39-7c24-4904-b068-a8898413342a",
   "metadata": {},
   "outputs": [],
   "source": [
    "#c)\n",
    "# Graficamos la composición por sexo\n",
    "sexo_composicion = df['CH04'].value_counts().sort_index()\n",
    "sexo_composicion.plot(kind='bar', color=['pink', 'blue']) \n",
    "plt.title('Composición por Sexo')\n",
    "plt.xlabel('Sexo')\n",
    "plt.ylabel('Cantidad')\n",
    "plt.xticks(ticks=[0, 1], labels=['Mujeres', 'Hombres'], rotation=0)\n",
    "\n",
    "plt.show()"
   ]
  },
  {
   "cell_type": "code",
   "execution_count": null,
   "id": "ff3cd66e-d04b-4b2e-a725-f721ede00e96",
   "metadata": {},
   "outputs": [],
   "source": [
    "#d) Correlograma\n",
    "data_corr = df[['CH04','CH07', 'CH08', 'NIVEL_ED', 'ESTADO', 'CAT_INAC', 'IPCF']]\n",
    "corr = data_corr.corr()\n",
    "ax = sns.heatmap(\n",
    "    corr, \n",
    "    vmin=-1, vmax=1, center=0,\n",
    "    cmap=sns.diverging_palette(20, 220, n=200),\n",
    "    square=True\n",
    ")\n",
    "ax.set_xticklabels(\n",
    "    ax.get_xticklabels(),\n",
    "    rotation=45,\n",
    "    horizontalalignment='right'\n",
    ")"
   ]
  },
  {
   "cell_type": "code",
   "execution_count": null,
   "id": "e96c2a08",
   "metadata": {},
   "outputs": [],
   "source": [
    "#e) Desocupado, inactivos\n",
    "\n",
    "desocupados = len(df[df['ESTADO']==2])\n",
    "inactivos = len(df[df['ESTADO']==3])\n",
    "\n",
    "print('Cantidad de desocupados:', desocupados)\n",
    "print('Cantidad de inactivos:', inactivos)\n",
    "\n",
    "#Eliminamos todas las variables que no tengan Estado de desocupado o inactivo\n",
    "des_in = df[(df['ESTADO'] == 1) | (df['ESTADO']==2) | (df['ESTADO'] == 3)]\n",
    "\n",
    "estado_ipcf = des_in.groupby('ESTADO')['IPCF'].mean().reset_index()"
   ]
  }
 ],
 "metadata": {
  "kernelspec": {
   "display_name": "Python 3 (ipykernel)",
   "language": "python",
   "name": "python3"
  },
  "language_info": {
   "codemirror_mode": {
    "name": "ipython",
    "version": 3
   },
   "file_extension": ".py",
   "mimetype": "text/x-python",
   "name": "python",
   "nbconvert_exporter": "python",
   "pygments_lexer": "ipython3",
   "version": "3.11.5"
  }
 },
 "nbformat": 4,
 "nbformat_minor": 5
}
