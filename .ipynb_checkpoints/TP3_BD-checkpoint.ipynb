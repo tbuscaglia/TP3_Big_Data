{
 "cells": [
  {
   "cell_type": "code",
   "execution_count": null,
   "id": "eb098d59",
   "metadata": {
    "scrolled": true
   },
   "outputs": [],
   "source": [
    "##Ejercicio 1 \n",
    "\n",
    "import pandas as pd\n",
    "import matplotlib.pyplot as plt\n",
    "\n",
    "## 2) \n",
    "#a) Importamos la base de datos, y nos quedamos unicamente con las observaciones pertenecientes a a los aglomerados de Ciudad Autónoma de Buenos Aires o Gran Buenos Aires.\n",
    "df = pd.read_excel('usu_individual_T423.xlsx')\n",
    "\n",
    "df = df[df['AGLOMERADO'].isin([32, 33])]\n",
    "\n",
    "\n"
   ]
  },
  {
   "cell_type": "code",
   "execution_count": null,
   "id": "acdd0806-9fc1-4272-81bc-11dca53f2cd8",
   "metadata": {},
   "outputs": [],
   "source": [
    "#b) Eliminamos observaciones con valores atipicos, como edades o ingresos negativos\n",
    "df = df[df['CH06'] > 0]\n",
    "\n",
    "df = df[df['P47T'] >= 0]\n",
    "\n",
    "df = df[df['ITF'] >= 0]"
   ]
  },
  {
   "cell_type": "code",
   "execution_count": null,
   "id": "8d237b39-7c24-4904-b068-a8898413342a",
   "metadata": {},
   "outputs": [],
   "source": [
    "#c)\n",
    "# Graficamos la composición por sexo\n",
    "sexo_composicion = df['CH04'].value_counts().sort_index()\n",
    "sexo_composicion.plot(kind='bar', color=['pink', 'blue']) \n",
    "plt.title('Composición por Sexo')\n",
    "plt.xlabel('Sexo')\n",
    "plt.ylabel('Cantidad')\n",
    "plt.xticks(ticks=[0, 1], labels=['Mujeres', 'Hombres'], rotation=0)\n",
    "\n",
    "plt.show()"
   ]
  },
  {
   "cell_type": "code",
   "execution_count": null,
   "id": "ff3cd66e-d04b-4b2e-a725-f721ede00e96",
   "metadata": {},
   "outputs": [],
   "source": [
    "#d) Correlograma\n",
    "data_corr = df[['CH04','CH07', 'CH08', 'NIVEL_ED', 'ESTADO', 'CAT_INAC', 'IPCF']]\n",
    "corr = data_corr.corr()\n",
    "ax = sns.heatmap(\n",
    "    corr, \n",
    "    vmin=-1, vmax=1, center=0,\n",
    "    cmap=sns.diverging_palette(20, 220, n=200),\n",
    "    square=True\n",
    ")\n",
    "ax.set_xticklabels(\n",
    "    ax.get_xticklabels(),\n",
    "    rotation=45,\n",
    "    horizontalalignment='right'\n",
    ")"
   ]
  },
  {
   "cell_type": "code",
   "execution_count": null,
   "id": "e96c2a08",
   "metadata": {},
   "outputs": [],
   "source": [
    "#e) Desocupado, inactivos\n",
    "\n",
    "desocupados = len(df[df['ESTADO']==2])\n",
    "inactivos = len(df[df['ESTADO']==3])\n",
    "\n",
    "print('Cantidad de desocupados:', desocupados)\n",
    "print('Cantidad de inactivos:', inactivos)\n",
    "\n",
    "#Eliminamos todas las variables que no tengan Estado de desocupado o inactivo\n",
    "des_in = df[(df['ESTADO'] == 1) | (df['ESTADO']==2) | (df['ESTADO'] == 3)]\n",
    "\n",
    "estado_ipcf = des_in.groupby('ESTADO')['IPCF'].mean().reset_index()"
   ]
  },
  {
   "cell_type": "code",
   "execution_count": null,
   "id": "e7a30279",
   "metadata": {},
   "outputs": [],
   "source": [
    "#f) Necesidades Energeticas\n",
    "\n",
    "df_adulto = pd.read_excel(\"C:/Users/tomas/Documents/UdeSA/Cuarto Año/Primer Cuatri/Big Data/TP3/tabla_adulto_equiv.xlsx\")\n",
    "\n",
    "#Creamos dummies por cada combinacion grupo/genero\n",
    "\n",
    "bins = [-1, 0, 1, 2, 3, 4, 5, 6, 7, 8, 9, 10, 11, 12, 13, 14, 15, 16, 17, 29, 45, 60, 75, float('inf')]\n",
    "labels = [\n",
    "    'less_than_1', '1_year', '2_year', '3_year', '4_year', '5_year', '6_year', '7_year', '8_year', '9_year', '10_year', \n",
    "    '11_year', '12_year', '13_year', '14_year', '15_year', '16_year', '17_year', '18_to_29', '30_to_45', \n",
    "    '46_to_60', '61_to_75', 'more_than_75'\n",
    "]\n",
    "\n",
    "df['age_group'] = pd.cut(df['CH06'], bins=bins, labels=labels)\n",
    "\n",
    "#Dummie por genero y edad\n",
    "for sex in [1, 2]:\n",
    "    for label in labels:\n",
    "        dummy_name = f'sex_{sex}_age_{label}'\n",
    "        df[dummy_name] = ((df['CH04'] == sex) & (df['age_group'] == label)).astype(int)\n"
   ]
  },
  {
   "cell_type": "code",
   "execution_count": null,
   "id": "56588cba",
   "metadata": {},
   "outputs": [],
   "source": [
    "#Mapeo de necesidades energeticas segun edad y genero\n",
    "energy_needs = {\n",
    "    'less_than_1': {1: 0.35, 2: 0.35},\n",
    "    '1_year': {1: 0.37, 2: 0.37},\n",
    "    '2_year': {1: 0.46, 2: 0.46},\n",
    "    '3_year': {1: 0.51, 2: 0.51},\n",
    "    '4_year': {1: 0.55, 2: 0.55},\n",
    "    '5_year': {1: 0.60, 2: 0.60},\n",
    "    '6_year': {1: 0.64, 2: 0.64},\n",
    "    '7_year': {1: 0.66, 2: 0.66},\n",
    "    '8_year': {1: 0.68, 2: 0.68},\n",
    "    '9_year': {1: 0.69, 2: 0.69},\n",
    "    '10_year': {1: 0.70, 2: 0.79},\n",
    "    '11_year': {1: 0.72, 2: 0.82},\n",
    "    '12_year': {1: 0.74, 2: 0.85},\n",
    "    '13_year': {1: 0.76, 2: 0.90},\n",
    "    '14_year': {1: 0.76, 2: 0.96},\n",
    "    '15_year': {1: 0.77, 2: 1.00},\n",
    "    '16_year': {1: 0.77, 2: 1.03},\n",
    "    '17_year': {1: 0.77, 2: 1.04},\n",
    "    '18_to_29': {1: 0.76, 2: 1.02},\n",
    "    '30_to_45': {1: 0.77, 2: 1.00},\n",
    "    '46_to_60': {1: 0.76, 2: 1.00},\n",
    "    '61_to_75': {1: 0.67, 2: 0.83},\n",
    "    'more_than_75': {1: 0.63, 2: 0.74}\n",
    "}"
   ]
  },
  {
   "cell_type": "code",
   "execution_count": null,
   "id": "d10b85bc",
   "metadata": {},
   "outputs": [],
   "source": [
    "#Cambiar valor 1 de dummie por valor energetico correspondiente a esa categoria\n",
    "for sex in [1, 2]:\n",
    "    for label in labels:\n",
    "        dummy_name = f'sex_{sex}_age_{label}'\n",
    "        energy_value = energy_needs[label][sex]\n",
    "        df[dummy_name] = df[dummy_name] * energy_value\n"
   ]
  },
  {
   "cell_type": "code",
   "execution_count": null,
   "id": "ed23deb4",
   "metadata": {},
   "outputs": [],
   "source": [
    "#Nos quedamos con los valores de necesidad energetica en una nueva variable y eliminamos las dummies\n",
    "def get_positive_energy_value(row):\n",
    "    for sex in [1, 2]:\n",
    "        for label in labels:\n",
    "            dummy_name = f'sex_{sex}_age_{label}'\n",
    "            if row[dummy_name] > 0:\n",
    "                return row[dummy_name]\n",
    "    return 0\n",
    "\n",
    "df['necesidades_energeticas'] = df.apply(get_positive_energy_value, axis=1)\n",
    "\n",
    "df = df.loc[:, ~df.columns.str.startswith('sex_')]\n",
    "\n",
    "df.drop(columns=['age_group'], inplace=True)"
   ]
  },
  {
   "cell_type": "code",
   "execution_count": null,
   "id": "d154a244",
   "metadata": {},
   "outputs": [],
   "source": []
  }
 ],
 "metadata": {
  "kernelspec": {
   "display_name": "Python 3 (ipykernel)",
   "language": "python",
   "name": "python3"
  },
  "language_info": {
   "codemirror_mode": {
    "name": "ipython",
    "version": 3
   },
   "file_extension": ".py",
   "mimetype": "text/x-python",
   "name": "python",
   "nbconvert_exporter": "python",
   "pygments_lexer": "ipython3",
   "version": "3.11.5"
  }
 },
 "nbformat": 4,
 "nbformat_minor": 5
}
